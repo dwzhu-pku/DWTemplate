{
 "cells": [
  {
   "cell_type": "markdown",
   "metadata": {},
   "source": [
    "## Get dataset and model from HuggingFace Hub"
   ]
  },
  {
   "cell_type": "code",
   "execution_count": null,
   "metadata": {},
   "outputs": [],
   "source": [
    "from pathlib import Path\n",
    "from huggingface_hub import interpreter_login\n",
    "from huggingface_hub import snapshot_download\n",
    "\n",
    "interpreter_login()\n",
    "\n",
    "repo_id = \"repo_id\" # \"meta-llama/Llama-3.1-8B\"  \n",
    "root_dir = Path(\"path_to_local_dir\") # \"/mnt/dawei/Model/\"\n",
    "snapshot_download(\n",
    "    repo_id=repo_id,\n",
    "    local_dir=root_dir / repo_id,\n",
    "    repo_type=\"type\", # [\"model\", \"dataset\"] \n",
    ")"
   ]
  },
  {
   "cell_type": "markdown",
   "metadata": {},
   "source": [
    "## Uploading data and models to Huggingface"
   ]
  },
  {
   "cell_type": "code",
   "execution_count": null,
   "metadata": {},
   "outputs": [],
   "source": [
    "from huggingface_hub import login\n",
    "from huggingface_hub import HfApi\n",
    "login()"
   ]
  },
  {
   "cell_type": "markdown",
   "metadata": {},
   "source": [
    "### uploading data"
   ]
  },
  {
   "cell_type": "code",
   "execution_count": null,
   "metadata": {},
   "outputs": [],
   "source": [
    "api = HfApi()\n",
    "user_name = \"username\"\n",
    "repo_name = \"dataset_name\"\n",
    "api.create_repo(repo_name,private=True,repo_type='dataset')"
   ]
  },
  {
   "cell_type": "code",
   "execution_count": null,
   "metadata": {},
   "outputs": [],
   "source": [
    "api.upload_file(\n",
    "    path_or_fileobj=\"path_to_your_file\",\n",
    "    path_in_repo=\"path_in_repo\",\n",
    "    repo_id=f\"{user_name}/{repo_name}\",\n",
    "    repo_type=\"dataset\",\n",
    ")"
   ]
  },
  {
   "cell_type": "markdown",
   "metadata": {},
   "source": [
    "### Uploading model"
   ]
  },
  {
   "cell_type": "code",
   "execution_count": null,
   "metadata": {},
   "outputs": [],
   "source": [
    "api = HfApi()\n",
    "user_name = \"username\"\n",
    "repo_name = \"model_name\"\n",
    "api.create_repo(repo_name,private=True,repo_type='model')"
   ]
  },
  {
   "cell_type": "code",
   "execution_count": null,
   "metadata": {},
   "outputs": [],
   "source": [
    "# use either of the following two methods to upload files\n",
    "api.upload_file(\n",
    "    path_or_fileobj=\"path_to_your_file\",\n",
    "    path_in_repo=\"path_in_repo\",\n",
    "    repo_id=f\"{user_name}/{repo_name}\",\n",
    "    repo_type=\"model\",\n",
    ")\n",
    "api.upload_folder(\n",
    "    folder_path=\"path_to_your_folder\",\n",
    "    repo_id=f\"{user_name}/{repo_name}\",\n",
    "    repo_type=\"model\",\n",
    "    allow_patterns=[\"*.json\",\"*.py\",\"pytorch_model*\",\"tokenizer*\"],\n",
    "    ignore_patterns=[\"train*\"],\n",
    ")"
   ]
  }
 ],
 "metadata": {
  "kernelspec": {
   "display_name": "swa",
   "language": "python",
   "name": "python3"
  },
  "language_info": {
   "codemirror_mode": {
    "name": "ipython",
    "version": 3
   },
   "file_extension": ".py",
   "mimetype": "text/x-python",
   "name": "python",
   "nbconvert_exporter": "python",
   "pygments_lexer": "ipython3",
   "version": "3.10.13"
  }
 },
 "nbformat": 4,
 "nbformat_minor": 2
}
